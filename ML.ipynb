{
 "cells": [
  {
   "cell_type": "code",
   "execution_count": 159,
   "metadata": {},
   "outputs": [],
   "source": [
    "import pandas as pd\n",
    "import ast\n",
    "from sklearn.metrics.pairwise import pairwise_distances\n",
    "import numpy as np\n",
    "\n",
    "\n",
    "df = pd.read_csv('movies_dataset_modificado.csv', low_memory=False)\n"
   ]
  },
  {
   "cell_type": "code",
   "execution_count": 160,
   "metadata": {},
   "outputs": [
    {
     "data": {
      "text/plain": [
       "str"
      ]
     },
     "execution_count": 160,
     "metadata": {},
     "output_type": "execute_result"
    }
   ],
   "source": [
    "type(df.at[1,\"name_Genres\"])"
   ]
  },
  {
   "cell_type": "code",
   "execution_count": 161,
   "metadata": {},
   "outputs": [],
   "source": [
    "df[\"name_Genres\"] = df[\"name_Genres\"].astype(str)\n"
   ]
  },
  {
   "cell_type": "code",
   "execution_count": 162,
   "metadata": {},
   "outputs": [],
   "source": [
    "df[\"name_Genres\"] = df[\"name_Genres\"].apply(lambda x: x.replace(\"[\", \"\").replace(\"]\", \"\").replace(\"'\", \"\").replace(\", \", \",\"))\n"
   ]
  },
  {
   "cell_type": "code",
   "execution_count": 163,
   "metadata": {},
   "outputs": [],
   "source": [
    "data = df[['title', 'vote_average', 'name_Genres', \"release_year\", \"name_production_companies\",\"overview\"]]"
   ]
  },
  {
   "cell_type": "code",
   "execution_count": 164,
   "metadata": {},
   "outputs": [
    {
     "data": {
      "text/plain": [
       "numpy.float64"
      ]
     },
     "execution_count": 164,
     "metadata": {},
     "output_type": "execute_result"
    }
   ],
   "source": [
    "type(df.at[4,\"release_year\"])"
   ]
  },
  {
   "cell_type": "code",
   "execution_count": 165,
   "metadata": {},
   "outputs": [
    {
     "data": {
      "text/plain": [
       "0                                Toy Story\n",
       "1                                  Jumanji\n",
       "2                         Grumpier Old Men\n",
       "3                        Waiting to Exhale\n",
       "4              Father of the Bride Part II\n",
       "                       ...                \n",
       "29995                      Seventeen Again\n",
       "29996                        Sweet Sixteen\n",
       "29997    The Disappearance of Garcia Lorca\n",
       "29998              The Dramatics: A Comedy\n",
       "29999                         Up the Creek\n",
       "Name: title, Length: 30000, dtype: object"
      ]
     },
     "execution_count": 165,
     "metadata": {},
     "output_type": "execute_result"
    }
   ],
   "source": [
    "#prueba utilizada\n",
    "df1 = df.head(30000).reset_index(drop=True)\n",
    "titles = df1['title']\n",
    "titles"
   ]
  },
  {
   "cell_type": "code",
   "execution_count": 166,
   "metadata": {},
   "outputs": [
    {
     "name": "stderr",
     "output_type": "stream",
     "text": [
      "C:\\Users\\tonto\\AppData\\Local\\Temp\\ipykernel_16728\\3122387956.py:1: FutureWarning: pivot_table dropped a column because it failed to aggregate. This behavior is deprecated and will raise in a future version of pandas. Select only the columns that can be aggregated.\n",
      "  similarity_matrix =  pairwise_distances(data.pivot_table(index='name_Genres', columns=['release_year']).fillna(0), metric=\"cosine\")\n"
     ]
    }
   ],
   "source": [
    "similarity_matrix =  pairwise_distances(data.pivot_table(index='name_Genres', columns=['release_year']).fillna(0), metric=\"cosine\")"
   ]
  },
  {
   "cell_type": "code",
   "execution_count": 167,
   "metadata": {},
   "outputs": [],
   "source": [
    "similarity_matrix = pairwise_distances(data.pivot_table(index='name_Genres', columns='release_year', values='vote_average', fill_value=0), metric='cosine')\n"
   ]
  },
  {
   "cell_type": "code",
   "execution_count": 168,
   "metadata": {},
   "outputs": [],
   "source": [
    "def recomendacion(titulo):\n",
    "    \n",
    "    \n",
    "   \n",
    "    \n",
    "    # Buscar la película seleccionada por el usuario en el DataFrame\n",
    "    idx = data[data['title'] == titulo].index[0]\n",
    "    \n",
    "    # Ordenar la matriz de similaridad para obtener las películas más similares\n",
    "    similar_movie_indices = np.argsort(similarity_matrix[idx])\n",
    "    \n",
    "    # Seleccionar las primeras 5 películas más similares y obtener sus títulos\n",
    "    recommended_movies = []\n",
    "    for i in similar_movie_indices:\n",
    "        if data.iloc[i]['title'] != titulo:\n",
    "            recommended_movies.append(data.iloc[i]['title'])\n",
    "        if len(recommended_movies) == 5:\n",
    "            break\n",
    "    \n",
    "    # Devolver una lista con los títulos de las películas recomendadas\n",
    "    return {'lista recomendada': recommended_movies}\n"
   ]
  },
  {
   "cell_type": "code",
   "execution_count": 169,
   "metadata": {},
   "outputs": [
    {
     "data": {
      "text/plain": [
       "{'lista recomendada': ['The Yards',\n",
       "  \"Rosemary's Baby\",\n",
       "  'Best Men',\n",
       "  'Lured',\n",
       "  'Farinelli']}"
      ]
     },
     "execution_count": 169,
     "metadata": {},
     "output_type": "execute_result"
    }
   ],
   "source": [
    "recomendacion((\"The Exorcist III\"))\n"
   ]
  },
  {
   "cell_type": "code",
   "execution_count": 171,
   "metadata": {},
   "outputs": [
    {
     "data": {
      "text/plain": [
       "'Horror,Drama,Mystery'"
      ]
     },
     "execution_count": 171,
     "metadata": {},
     "output_type": "execute_result"
    }
   ],
   "source": [
    "pelicula_entrada = data.loc[data['title'] ==   \"Rosemary's Baby\"]\n",
    "generos_entrada = pelicula_entrada['name_Genres'].values[0]\n",
    "\n",
    "generos_entrada"
   ]
  },
  {
   "cell_type": "code",
   "execution_count": 172,
   "metadata": {},
   "outputs": [
    {
     "data": {
      "text/plain": [
       "1994.0"
      ]
     },
     "execution_count": 172,
     "metadata": {},
     "output_type": "execute_result"
    }
   ],
   "source": [
    "pelicula_entrada = data.loc[data['title'] ==   'Farinelli']\n",
    "generos_entrada = pelicula_entrada['release_year'].values[0]\n",
    "\n",
    "generos_entrada"
   ]
  },
  {
   "cell_type": "code",
   "execution_count": 173,
   "metadata": {},
   "outputs": [
    {
     "name": "stdout",
     "output_type": "stream",
     "text": [
      "90\n"
     ]
    }
   ],
   "source": [
    "print(data['release_year'].isnull().sum())"
   ]
  }
 ],
 "metadata": {
  "kernelspec": {
   "display_name": "Python 3",
   "language": "python",
   "name": "python3"
  },
  "language_info": {
   "codemirror_mode": {
    "name": "ipython",
    "version": 3
   },
   "file_extension": ".py",
   "mimetype": "text/x-python",
   "name": "python",
   "nbconvert_exporter": "python",
   "pygments_lexer": "ipython3",
   "version": "3.11.2"
  },
  "orig_nbformat": 4
 },
 "nbformat": 4,
 "nbformat_minor": 2
}
